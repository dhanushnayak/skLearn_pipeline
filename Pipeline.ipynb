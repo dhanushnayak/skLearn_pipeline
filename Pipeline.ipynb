{
 "cells": [
  {
   "cell_type": "code",
   "execution_count": 1,
   "id": "fa3d0b7e",
   "metadata": {},
   "outputs": [
    {
     "name": "stderr",
     "output_type": "stream",
     "text": [
      "C:\\Users\\admin\\anaconda3\\lib\\site-packages\\scipy\\__init__.py:146: UserWarning: A NumPy version >=1.16.5 and <1.23.0 is required for this version of SciPy (detected version 1.23.0\n",
      "  warnings.warn(f\"A NumPy version >={np_minversion} and <{np_maxversion}\"\n"
     ]
    }
   ],
   "source": [
    "from sklearn.impute import SimpleImputer\n",
    "from sklearn import set_config\n",
    "set_config(display='diagram')\n",
    "from sklearn.preprocessing import StandardScaler,OneHotEncoder\n",
    "from sklearn.pipeline import Pipeline"
   ]
  },
  {
   "cell_type": "code",
   "execution_count": 2,
   "id": "e7c3e016",
   "metadata": {},
   "outputs": [
    {
     "data": {
      "text/html": [
       "<style>#sk-89a917da-1487-4397-8fa0-fd1a69a462e7 {color: black;background-color: white;}#sk-89a917da-1487-4397-8fa0-fd1a69a462e7 pre{padding: 0;}#sk-89a917da-1487-4397-8fa0-fd1a69a462e7 div.sk-toggleable {background-color: white;}#sk-89a917da-1487-4397-8fa0-fd1a69a462e7 label.sk-toggleable__label {cursor: pointer;display: block;width: 100%;margin-bottom: 0;padding: 0.3em;box-sizing: border-box;text-align: center;}#sk-89a917da-1487-4397-8fa0-fd1a69a462e7 label.sk-toggleable__label-arrow:before {content: \"▸\";float: left;margin-right: 0.25em;color: #696969;}#sk-89a917da-1487-4397-8fa0-fd1a69a462e7 label.sk-toggleable__label-arrow:hover:before {color: black;}#sk-89a917da-1487-4397-8fa0-fd1a69a462e7 div.sk-estimator:hover label.sk-toggleable__label-arrow:before {color: black;}#sk-89a917da-1487-4397-8fa0-fd1a69a462e7 div.sk-toggleable__content {max-height: 0;max-width: 0;overflow: hidden;text-align: left;background-color: #f0f8ff;}#sk-89a917da-1487-4397-8fa0-fd1a69a462e7 div.sk-toggleable__content pre {margin: 0.2em;color: black;border-radius: 0.25em;background-color: #f0f8ff;}#sk-89a917da-1487-4397-8fa0-fd1a69a462e7 input.sk-toggleable__control:checked~div.sk-toggleable__content {max-height: 200px;max-width: 100%;overflow: auto;}#sk-89a917da-1487-4397-8fa0-fd1a69a462e7 input.sk-toggleable__control:checked~label.sk-toggleable__label-arrow:before {content: \"▾\";}#sk-89a917da-1487-4397-8fa0-fd1a69a462e7 div.sk-estimator input.sk-toggleable__control:checked~label.sk-toggleable__label {background-color: #d4ebff;}#sk-89a917da-1487-4397-8fa0-fd1a69a462e7 div.sk-label input.sk-toggleable__control:checked~label.sk-toggleable__label {background-color: #d4ebff;}#sk-89a917da-1487-4397-8fa0-fd1a69a462e7 input.sk-hidden--visually {border: 0;clip: rect(1px 1px 1px 1px);clip: rect(1px, 1px, 1px, 1px);height: 1px;margin: -1px;overflow: hidden;padding: 0;position: absolute;width: 1px;}#sk-89a917da-1487-4397-8fa0-fd1a69a462e7 div.sk-estimator {font-family: monospace;background-color: #f0f8ff;border: 1px dotted black;border-radius: 0.25em;box-sizing: border-box;margin-bottom: 0.5em;}#sk-89a917da-1487-4397-8fa0-fd1a69a462e7 div.sk-estimator:hover {background-color: #d4ebff;}#sk-89a917da-1487-4397-8fa0-fd1a69a462e7 div.sk-parallel-item::after {content: \"\";width: 100%;border-bottom: 1px solid gray;flex-grow: 1;}#sk-89a917da-1487-4397-8fa0-fd1a69a462e7 div.sk-label:hover label.sk-toggleable__label {background-color: #d4ebff;}#sk-89a917da-1487-4397-8fa0-fd1a69a462e7 div.sk-serial::before {content: \"\";position: absolute;border-left: 1px solid gray;box-sizing: border-box;top: 2em;bottom: 0;left: 50%;}#sk-89a917da-1487-4397-8fa0-fd1a69a462e7 div.sk-serial {display: flex;flex-direction: column;align-items: center;background-color: white;padding-right: 0.2em;padding-left: 0.2em;}#sk-89a917da-1487-4397-8fa0-fd1a69a462e7 div.sk-item {z-index: 1;}#sk-89a917da-1487-4397-8fa0-fd1a69a462e7 div.sk-parallel {display: flex;align-items: stretch;justify-content: center;background-color: white;}#sk-89a917da-1487-4397-8fa0-fd1a69a462e7 div.sk-parallel::before {content: \"\";position: absolute;border-left: 1px solid gray;box-sizing: border-box;top: 2em;bottom: 0;left: 50%;}#sk-89a917da-1487-4397-8fa0-fd1a69a462e7 div.sk-parallel-item {display: flex;flex-direction: column;position: relative;background-color: white;}#sk-89a917da-1487-4397-8fa0-fd1a69a462e7 div.sk-parallel-item:first-child::after {align-self: flex-end;width: 50%;}#sk-89a917da-1487-4397-8fa0-fd1a69a462e7 div.sk-parallel-item:last-child::after {align-self: flex-start;width: 50%;}#sk-89a917da-1487-4397-8fa0-fd1a69a462e7 div.sk-parallel-item:only-child::after {width: 0;}#sk-89a917da-1487-4397-8fa0-fd1a69a462e7 div.sk-dashed-wrapped {border: 1px dashed gray;margin: 0 0.4em 0.5em 0.4em;box-sizing: border-box;padding-bottom: 0.4em;background-color: white;position: relative;}#sk-89a917da-1487-4397-8fa0-fd1a69a462e7 div.sk-label label {font-family: monospace;font-weight: bold;background-color: white;display: inline-block;line-height: 1.2em;}#sk-89a917da-1487-4397-8fa0-fd1a69a462e7 div.sk-label-container {position: relative;z-index: 2;text-align: center;}#sk-89a917da-1487-4397-8fa0-fd1a69a462e7 div.sk-container {/* jupyter's `normalize.less` sets `[hidden] { display: none; }` but bootstrap.min.css set `[hidden] { display: none !important; }` so we also need the `!important` here to be able to override the default hidden behavior on the sphinx rendered scikit-learn.org. See: https://github.com/scikit-learn/scikit-learn/issues/21755 */display: inline-block !important;position: relative;}#sk-89a917da-1487-4397-8fa0-fd1a69a462e7 div.sk-text-repr-fallback {display: none;}</style><div id=\"sk-89a917da-1487-4397-8fa0-fd1a69a462e7\" class=\"sk-top-container\"><div class=\"sk-text-repr-fallback\"><pre>Pipeline(steps=[(&#x27;imputation_mean&#x27;, SimpleImputer()),\n",
       "                (&#x27;scaler&#x27;, StandardScaler())])</pre><b>Please rerun this cell to show the HTML repr or trust the notebook.</b></div><div class=\"sk-container\" hidden><div class=\"sk-item sk-dashed-wrapped\"><div class=\"sk-label-container\"><div class=\"sk-label sk-toggleable\"><input class=\"sk-toggleable__control sk-hidden--visually\" id=\"23a505d6-c757-49db-b5c1-65b86a1f4878\" type=\"checkbox\" ><label for=\"23a505d6-c757-49db-b5c1-65b86a1f4878\" class=\"sk-toggleable__label sk-toggleable__label-arrow\">Pipeline</label><div class=\"sk-toggleable__content\"><pre>Pipeline(steps=[(&#x27;imputation_mean&#x27;, SimpleImputer()),\n",
       "                (&#x27;scaler&#x27;, StandardScaler())])</pre></div></div></div><div class=\"sk-serial\"><div class=\"sk-item\"><div class=\"sk-estimator sk-toggleable\"><input class=\"sk-toggleable__control sk-hidden--visually\" id=\"aff85402-6d39-4819-91f8-7a6aec2c9924\" type=\"checkbox\" ><label for=\"aff85402-6d39-4819-91f8-7a6aec2c9924\" class=\"sk-toggleable__label sk-toggleable__label-arrow\">SimpleImputer</label><div class=\"sk-toggleable__content\"><pre>SimpleImputer()</pre></div></div></div><div class=\"sk-item\"><div class=\"sk-estimator sk-toggleable\"><input class=\"sk-toggleable__control sk-hidden--visually\" id=\"5c1706da-df94-4da5-af9d-f648f3bc0fe5\" type=\"checkbox\" ><label for=\"5c1706da-df94-4da5-af9d-f648f3bc0fe5\" class=\"sk-toggleable__label sk-toggleable__label-arrow\">StandardScaler</label><div class=\"sk-toggleable__content\"><pre>StandardScaler()</pre></div></div></div></div></div></div></div>"
      ],
      "text/plain": [
       "Pipeline(steps=[('imputation_mean', SimpleImputer()),\n",
       "                ('scaler', StandardScaler())])"
      ]
     },
     "execution_count": 2,
     "metadata": {},
     "output_type": "execute_result"
    }
   ],
   "source": [
    "import numpy as np\n",
    "numeric_processor = Pipeline(\n",
    "[\n",
    "    (\"imputation_mean\",SimpleImputer(missing_values=np.nan,strategy='mean')),\n",
    "    (\"scaler\",StandardScaler())\n",
    "]\n",
    ")\n",
    "\n",
    "numeric_processor"
   ]
  },
  {
   "cell_type": "code",
   "execution_count": 3,
   "id": "7f6a1d3f",
   "metadata": {},
   "outputs": [],
   "source": [
    "cal_processor = Pipeline(\n",
    "[\n",
    "    (\"imputation_mean\",SimpleImputer(missing_values=np.nan,strategy='mean')),\n",
    "    (\"Onehot\",OneHotEncoder())\n",
    "]\n",
    ")"
   ]
  },
  {
   "cell_type": "code",
   "execution_count": 4,
   "id": "24512f2b",
   "metadata": {},
   "outputs": [
    {
     "data": {
      "text/html": [
       "<style>#sk-6e9ee34b-8894-429b-b4e5-42681a6f9e5f {color: black;background-color: white;}#sk-6e9ee34b-8894-429b-b4e5-42681a6f9e5f pre{padding: 0;}#sk-6e9ee34b-8894-429b-b4e5-42681a6f9e5f div.sk-toggleable {background-color: white;}#sk-6e9ee34b-8894-429b-b4e5-42681a6f9e5f label.sk-toggleable__label {cursor: pointer;display: block;width: 100%;margin-bottom: 0;padding: 0.3em;box-sizing: border-box;text-align: center;}#sk-6e9ee34b-8894-429b-b4e5-42681a6f9e5f label.sk-toggleable__label-arrow:before {content: \"▸\";float: left;margin-right: 0.25em;color: #696969;}#sk-6e9ee34b-8894-429b-b4e5-42681a6f9e5f label.sk-toggleable__label-arrow:hover:before {color: black;}#sk-6e9ee34b-8894-429b-b4e5-42681a6f9e5f div.sk-estimator:hover label.sk-toggleable__label-arrow:before {color: black;}#sk-6e9ee34b-8894-429b-b4e5-42681a6f9e5f div.sk-toggleable__content {max-height: 0;max-width: 0;overflow: hidden;text-align: left;background-color: #f0f8ff;}#sk-6e9ee34b-8894-429b-b4e5-42681a6f9e5f div.sk-toggleable__content pre {margin: 0.2em;color: black;border-radius: 0.25em;background-color: #f0f8ff;}#sk-6e9ee34b-8894-429b-b4e5-42681a6f9e5f input.sk-toggleable__control:checked~div.sk-toggleable__content {max-height: 200px;max-width: 100%;overflow: auto;}#sk-6e9ee34b-8894-429b-b4e5-42681a6f9e5f input.sk-toggleable__control:checked~label.sk-toggleable__label-arrow:before {content: \"▾\";}#sk-6e9ee34b-8894-429b-b4e5-42681a6f9e5f div.sk-estimator input.sk-toggleable__control:checked~label.sk-toggleable__label {background-color: #d4ebff;}#sk-6e9ee34b-8894-429b-b4e5-42681a6f9e5f div.sk-label input.sk-toggleable__control:checked~label.sk-toggleable__label {background-color: #d4ebff;}#sk-6e9ee34b-8894-429b-b4e5-42681a6f9e5f input.sk-hidden--visually {border: 0;clip: rect(1px 1px 1px 1px);clip: rect(1px, 1px, 1px, 1px);height: 1px;margin: -1px;overflow: hidden;padding: 0;position: absolute;width: 1px;}#sk-6e9ee34b-8894-429b-b4e5-42681a6f9e5f div.sk-estimator {font-family: monospace;background-color: #f0f8ff;border: 1px dotted black;border-radius: 0.25em;box-sizing: border-box;margin-bottom: 0.5em;}#sk-6e9ee34b-8894-429b-b4e5-42681a6f9e5f div.sk-estimator:hover {background-color: #d4ebff;}#sk-6e9ee34b-8894-429b-b4e5-42681a6f9e5f div.sk-parallel-item::after {content: \"\";width: 100%;border-bottom: 1px solid gray;flex-grow: 1;}#sk-6e9ee34b-8894-429b-b4e5-42681a6f9e5f div.sk-label:hover label.sk-toggleable__label {background-color: #d4ebff;}#sk-6e9ee34b-8894-429b-b4e5-42681a6f9e5f div.sk-serial::before {content: \"\";position: absolute;border-left: 1px solid gray;box-sizing: border-box;top: 2em;bottom: 0;left: 50%;}#sk-6e9ee34b-8894-429b-b4e5-42681a6f9e5f div.sk-serial {display: flex;flex-direction: column;align-items: center;background-color: white;padding-right: 0.2em;padding-left: 0.2em;}#sk-6e9ee34b-8894-429b-b4e5-42681a6f9e5f div.sk-item {z-index: 1;}#sk-6e9ee34b-8894-429b-b4e5-42681a6f9e5f div.sk-parallel {display: flex;align-items: stretch;justify-content: center;background-color: white;}#sk-6e9ee34b-8894-429b-b4e5-42681a6f9e5f div.sk-parallel::before {content: \"\";position: absolute;border-left: 1px solid gray;box-sizing: border-box;top: 2em;bottom: 0;left: 50%;}#sk-6e9ee34b-8894-429b-b4e5-42681a6f9e5f div.sk-parallel-item {display: flex;flex-direction: column;position: relative;background-color: white;}#sk-6e9ee34b-8894-429b-b4e5-42681a6f9e5f div.sk-parallel-item:first-child::after {align-self: flex-end;width: 50%;}#sk-6e9ee34b-8894-429b-b4e5-42681a6f9e5f div.sk-parallel-item:last-child::after {align-self: flex-start;width: 50%;}#sk-6e9ee34b-8894-429b-b4e5-42681a6f9e5f div.sk-parallel-item:only-child::after {width: 0;}#sk-6e9ee34b-8894-429b-b4e5-42681a6f9e5f div.sk-dashed-wrapped {border: 1px dashed gray;margin: 0 0.4em 0.5em 0.4em;box-sizing: border-box;padding-bottom: 0.4em;background-color: white;position: relative;}#sk-6e9ee34b-8894-429b-b4e5-42681a6f9e5f div.sk-label label {font-family: monospace;font-weight: bold;background-color: white;display: inline-block;line-height: 1.2em;}#sk-6e9ee34b-8894-429b-b4e5-42681a6f9e5f div.sk-label-container {position: relative;z-index: 2;text-align: center;}#sk-6e9ee34b-8894-429b-b4e5-42681a6f9e5f div.sk-container {/* jupyter's `normalize.less` sets `[hidden] { display: none; }` but bootstrap.min.css set `[hidden] { display: none !important; }` so we also need the `!important` here to be able to override the default hidden behavior on the sphinx rendered scikit-learn.org. See: https://github.com/scikit-learn/scikit-learn/issues/21755 */display: inline-block !important;position: relative;}#sk-6e9ee34b-8894-429b-b4e5-42681a6f9e5f div.sk-text-repr-fallback {display: none;}</style><div id=\"sk-6e9ee34b-8894-429b-b4e5-42681a6f9e5f\" class=\"sk-top-container\"><div class=\"sk-text-repr-fallback\"><pre>Pipeline(steps=[(&#x27;imputation_mean&#x27;, SimpleImputer()),\n",
       "                (&#x27;Onehot&#x27;, OneHotEncoder())])</pre><b>Please rerun this cell to show the HTML repr or trust the notebook.</b></div><div class=\"sk-container\" hidden><div class=\"sk-item sk-dashed-wrapped\"><div class=\"sk-label-container\"><div class=\"sk-label sk-toggleable\"><input class=\"sk-toggleable__control sk-hidden--visually\" id=\"72cb330f-f21b-48e1-8471-8a75c6544b86\" type=\"checkbox\" ><label for=\"72cb330f-f21b-48e1-8471-8a75c6544b86\" class=\"sk-toggleable__label sk-toggleable__label-arrow\">Pipeline</label><div class=\"sk-toggleable__content\"><pre>Pipeline(steps=[(&#x27;imputation_mean&#x27;, SimpleImputer()),\n",
       "                (&#x27;Onehot&#x27;, OneHotEncoder())])</pre></div></div></div><div class=\"sk-serial\"><div class=\"sk-item\"><div class=\"sk-estimator sk-toggleable\"><input class=\"sk-toggleable__control sk-hidden--visually\" id=\"cb8c86f6-67d4-4095-9247-1571b1045d20\" type=\"checkbox\" ><label for=\"cb8c86f6-67d4-4095-9247-1571b1045d20\" class=\"sk-toggleable__label sk-toggleable__label-arrow\">SimpleImputer</label><div class=\"sk-toggleable__content\"><pre>SimpleImputer()</pre></div></div></div><div class=\"sk-item\"><div class=\"sk-estimator sk-toggleable\"><input class=\"sk-toggleable__control sk-hidden--visually\" id=\"48cfc46c-2eab-4bda-9048-1b955ced8ba2\" type=\"checkbox\" ><label for=\"48cfc46c-2eab-4bda-9048-1b955ced8ba2\" class=\"sk-toggleable__label sk-toggleable__label-arrow\">OneHotEncoder</label><div class=\"sk-toggleable__content\"><pre>OneHotEncoder()</pre></div></div></div></div></div></div></div>"
      ],
      "text/plain": [
       "Pipeline(steps=[('imputation_mean', SimpleImputer()),\n",
       "                ('Onehot', OneHotEncoder())])"
      ]
     },
     "execution_count": 4,
     "metadata": {},
     "output_type": "execute_result"
    }
   ],
   "source": [
    "cal_processor"
   ]
  },
  {
   "cell_type": "code",
   "execution_count": 5,
   "id": "0aec5851",
   "metadata": {},
   "outputs": [
    {
     "data": {
      "text/html": [
       "<style>#sk-7a9a2a97-82a1-458e-a4b5-fe0d280f9d28 {color: black;background-color: white;}#sk-7a9a2a97-82a1-458e-a4b5-fe0d280f9d28 pre{padding: 0;}#sk-7a9a2a97-82a1-458e-a4b5-fe0d280f9d28 div.sk-toggleable {background-color: white;}#sk-7a9a2a97-82a1-458e-a4b5-fe0d280f9d28 label.sk-toggleable__label {cursor: pointer;display: block;width: 100%;margin-bottom: 0;padding: 0.3em;box-sizing: border-box;text-align: center;}#sk-7a9a2a97-82a1-458e-a4b5-fe0d280f9d28 label.sk-toggleable__label-arrow:before {content: \"▸\";float: left;margin-right: 0.25em;color: #696969;}#sk-7a9a2a97-82a1-458e-a4b5-fe0d280f9d28 label.sk-toggleable__label-arrow:hover:before {color: black;}#sk-7a9a2a97-82a1-458e-a4b5-fe0d280f9d28 div.sk-estimator:hover label.sk-toggleable__label-arrow:before {color: black;}#sk-7a9a2a97-82a1-458e-a4b5-fe0d280f9d28 div.sk-toggleable__content {max-height: 0;max-width: 0;overflow: hidden;text-align: left;background-color: #f0f8ff;}#sk-7a9a2a97-82a1-458e-a4b5-fe0d280f9d28 div.sk-toggleable__content pre {margin: 0.2em;color: black;border-radius: 0.25em;background-color: #f0f8ff;}#sk-7a9a2a97-82a1-458e-a4b5-fe0d280f9d28 input.sk-toggleable__control:checked~div.sk-toggleable__content {max-height: 200px;max-width: 100%;overflow: auto;}#sk-7a9a2a97-82a1-458e-a4b5-fe0d280f9d28 input.sk-toggleable__control:checked~label.sk-toggleable__label-arrow:before {content: \"▾\";}#sk-7a9a2a97-82a1-458e-a4b5-fe0d280f9d28 div.sk-estimator input.sk-toggleable__control:checked~label.sk-toggleable__label {background-color: #d4ebff;}#sk-7a9a2a97-82a1-458e-a4b5-fe0d280f9d28 div.sk-label input.sk-toggleable__control:checked~label.sk-toggleable__label {background-color: #d4ebff;}#sk-7a9a2a97-82a1-458e-a4b5-fe0d280f9d28 input.sk-hidden--visually {border: 0;clip: rect(1px 1px 1px 1px);clip: rect(1px, 1px, 1px, 1px);height: 1px;margin: -1px;overflow: hidden;padding: 0;position: absolute;width: 1px;}#sk-7a9a2a97-82a1-458e-a4b5-fe0d280f9d28 div.sk-estimator {font-family: monospace;background-color: #f0f8ff;border: 1px dotted black;border-radius: 0.25em;box-sizing: border-box;margin-bottom: 0.5em;}#sk-7a9a2a97-82a1-458e-a4b5-fe0d280f9d28 div.sk-estimator:hover {background-color: #d4ebff;}#sk-7a9a2a97-82a1-458e-a4b5-fe0d280f9d28 div.sk-parallel-item::after {content: \"\";width: 100%;border-bottom: 1px solid gray;flex-grow: 1;}#sk-7a9a2a97-82a1-458e-a4b5-fe0d280f9d28 div.sk-label:hover label.sk-toggleable__label {background-color: #d4ebff;}#sk-7a9a2a97-82a1-458e-a4b5-fe0d280f9d28 div.sk-serial::before {content: \"\";position: absolute;border-left: 1px solid gray;box-sizing: border-box;top: 2em;bottom: 0;left: 50%;}#sk-7a9a2a97-82a1-458e-a4b5-fe0d280f9d28 div.sk-serial {display: flex;flex-direction: column;align-items: center;background-color: white;padding-right: 0.2em;padding-left: 0.2em;}#sk-7a9a2a97-82a1-458e-a4b5-fe0d280f9d28 div.sk-item {z-index: 1;}#sk-7a9a2a97-82a1-458e-a4b5-fe0d280f9d28 div.sk-parallel {display: flex;align-items: stretch;justify-content: center;background-color: white;}#sk-7a9a2a97-82a1-458e-a4b5-fe0d280f9d28 div.sk-parallel::before {content: \"\";position: absolute;border-left: 1px solid gray;box-sizing: border-box;top: 2em;bottom: 0;left: 50%;}#sk-7a9a2a97-82a1-458e-a4b5-fe0d280f9d28 div.sk-parallel-item {display: flex;flex-direction: column;position: relative;background-color: white;}#sk-7a9a2a97-82a1-458e-a4b5-fe0d280f9d28 div.sk-parallel-item:first-child::after {align-self: flex-end;width: 50%;}#sk-7a9a2a97-82a1-458e-a4b5-fe0d280f9d28 div.sk-parallel-item:last-child::after {align-self: flex-start;width: 50%;}#sk-7a9a2a97-82a1-458e-a4b5-fe0d280f9d28 div.sk-parallel-item:only-child::after {width: 0;}#sk-7a9a2a97-82a1-458e-a4b5-fe0d280f9d28 div.sk-dashed-wrapped {border: 1px dashed gray;margin: 0 0.4em 0.5em 0.4em;box-sizing: border-box;padding-bottom: 0.4em;background-color: white;position: relative;}#sk-7a9a2a97-82a1-458e-a4b5-fe0d280f9d28 div.sk-label label {font-family: monospace;font-weight: bold;background-color: white;display: inline-block;line-height: 1.2em;}#sk-7a9a2a97-82a1-458e-a4b5-fe0d280f9d28 div.sk-label-container {position: relative;z-index: 2;text-align: center;}#sk-7a9a2a97-82a1-458e-a4b5-fe0d280f9d28 div.sk-container {/* jupyter's `normalize.less` sets `[hidden] { display: none; }` but bootstrap.min.css set `[hidden] { display: none !important; }` so we also need the `!important` here to be able to override the default hidden behavior on the sphinx rendered scikit-learn.org. See: https://github.com/scikit-learn/scikit-learn/issues/21755 */display: inline-block !important;position: relative;}#sk-7a9a2a97-82a1-458e-a4b5-fe0d280f9d28 div.sk-text-repr-fallback {display: none;}</style><div id=\"sk-7a9a2a97-82a1-458e-a4b5-fe0d280f9d28\" class=\"sk-top-container\"><div class=\"sk-text-repr-fallback\"><pre>ColumnTransformer(transformers=[(&#x27;categorical&#x27;,\n",
       "                                 Pipeline(steps=[(&#x27;imputation_mean&#x27;,\n",
       "                                                  SimpleImputer()),\n",
       "                                                 (&#x27;Onehot&#x27;, OneHotEncoder())]),\n",
       "                                 [&#x27;gender&#x27;, &#x27;City&#x27;]),\n",
       "                                (&#x27;numerical&#x27;,\n",
       "                                 Pipeline(steps=[(&#x27;imputation_mean&#x27;,\n",
       "                                                  SimpleImputer()),\n",
       "                                                 (&#x27;scaler&#x27;, StandardScaler())]),\n",
       "                                 [&#x27;age&#x27;, &#x27;height&#x27;])])</pre><b>Please rerun this cell to show the HTML repr or trust the notebook.</b></div><div class=\"sk-container\" hidden><div class=\"sk-item sk-dashed-wrapped\"><div class=\"sk-label-container\"><div class=\"sk-label sk-toggleable\"><input class=\"sk-toggleable__control sk-hidden--visually\" id=\"31eee2e6-242f-4419-9ebb-d05983514730\" type=\"checkbox\" ><label for=\"31eee2e6-242f-4419-9ebb-d05983514730\" class=\"sk-toggleable__label sk-toggleable__label-arrow\">ColumnTransformer</label><div class=\"sk-toggleable__content\"><pre>ColumnTransformer(transformers=[(&#x27;categorical&#x27;,\n",
       "                                 Pipeline(steps=[(&#x27;imputation_mean&#x27;,\n",
       "                                                  SimpleImputer()),\n",
       "                                                 (&#x27;Onehot&#x27;, OneHotEncoder())]),\n",
       "                                 [&#x27;gender&#x27;, &#x27;City&#x27;]),\n",
       "                                (&#x27;numerical&#x27;,\n",
       "                                 Pipeline(steps=[(&#x27;imputation_mean&#x27;,\n",
       "                                                  SimpleImputer()),\n",
       "                                                 (&#x27;scaler&#x27;, StandardScaler())]),\n",
       "                                 [&#x27;age&#x27;, &#x27;height&#x27;])])</pre></div></div></div><div class=\"sk-parallel\"><div class=\"sk-parallel-item\"><div class=\"sk-item\"><div class=\"sk-label-container\"><div class=\"sk-label sk-toggleable\"><input class=\"sk-toggleable__control sk-hidden--visually\" id=\"51e07998-57e1-46c1-a685-2af67618fa50\" type=\"checkbox\" ><label for=\"51e07998-57e1-46c1-a685-2af67618fa50\" class=\"sk-toggleable__label sk-toggleable__label-arrow\">categorical</label><div class=\"sk-toggleable__content\"><pre>[&#x27;gender&#x27;, &#x27;City&#x27;]</pre></div></div></div><div class=\"sk-serial\"><div class=\"sk-item\"><div class=\"sk-serial\"><div class=\"sk-item\"><div class=\"sk-estimator sk-toggleable\"><input class=\"sk-toggleable__control sk-hidden--visually\" id=\"a70a4b6f-bb2b-4e29-b577-040d2d86e486\" type=\"checkbox\" ><label for=\"a70a4b6f-bb2b-4e29-b577-040d2d86e486\" class=\"sk-toggleable__label sk-toggleable__label-arrow\">SimpleImputer</label><div class=\"sk-toggleable__content\"><pre>SimpleImputer()</pre></div></div></div><div class=\"sk-item\"><div class=\"sk-estimator sk-toggleable\"><input class=\"sk-toggleable__control sk-hidden--visually\" id=\"2e5c1b9c-e2da-458b-9e3e-184a3d17ffc8\" type=\"checkbox\" ><label for=\"2e5c1b9c-e2da-458b-9e3e-184a3d17ffc8\" class=\"sk-toggleable__label sk-toggleable__label-arrow\">OneHotEncoder</label><div class=\"sk-toggleable__content\"><pre>OneHotEncoder()</pre></div></div></div></div></div></div></div></div><div class=\"sk-parallel-item\"><div class=\"sk-item\"><div class=\"sk-label-container\"><div class=\"sk-label sk-toggleable\"><input class=\"sk-toggleable__control sk-hidden--visually\" id=\"235940b5-a8c3-45ca-a46c-e21926ba8347\" type=\"checkbox\" ><label for=\"235940b5-a8c3-45ca-a46c-e21926ba8347\" class=\"sk-toggleable__label sk-toggleable__label-arrow\">numerical</label><div class=\"sk-toggleable__content\"><pre>[&#x27;age&#x27;, &#x27;height&#x27;]</pre></div></div></div><div class=\"sk-serial\"><div class=\"sk-item\"><div class=\"sk-serial\"><div class=\"sk-item\"><div class=\"sk-estimator sk-toggleable\"><input class=\"sk-toggleable__control sk-hidden--visually\" id=\"b88d5890-5df4-4a86-bca5-b9dbe3feb497\" type=\"checkbox\" ><label for=\"b88d5890-5df4-4a86-bca5-b9dbe3feb497\" class=\"sk-toggleable__label sk-toggleable__label-arrow\">SimpleImputer</label><div class=\"sk-toggleable__content\"><pre>SimpleImputer()</pre></div></div></div><div class=\"sk-item\"><div class=\"sk-estimator sk-toggleable\"><input class=\"sk-toggleable__control sk-hidden--visually\" id=\"c2f57a08-7628-4b1f-95cb-06cb1f30690d\" type=\"checkbox\" ><label for=\"c2f57a08-7628-4b1f-95cb-06cb1f30690d\" class=\"sk-toggleable__label sk-toggleable__label-arrow\">StandardScaler</label><div class=\"sk-toggleable__content\"><pre>StandardScaler()</pre></div></div></div></div></div></div></div></div></div></div></div></div>"
      ],
      "text/plain": [
       "ColumnTransformer(transformers=[('categorical',\n",
       "                                 Pipeline(steps=[('imputation_mean',\n",
       "                                                  SimpleImputer()),\n",
       "                                                 ('Onehot', OneHotEncoder())]),\n",
       "                                 ['gender', 'City']),\n",
       "                                ('numerical',\n",
       "                                 Pipeline(steps=[('imputation_mean',\n",
       "                                                  SimpleImputer()),\n",
       "                                                 ('scaler', StandardScaler())]),\n",
       "                                 ['age', 'height'])])"
      ]
     },
     "execution_count": 5,
     "metadata": {},
     "output_type": "execute_result"
    }
   ],
   "source": [
    "from sklearn.compose import ColumnTransformer\n",
    "preprocess = ColumnTransformer(\n",
    "[\n",
    "    (\"categorical\",cal_processor,['gender',\"City\"]),\n",
    "    (\"numerical\",numeric_processor,['age','height'])\n",
    "]\n",
    ")\n",
    "preprocess"
   ]
  },
  {
   "cell_type": "code",
   "execution_count": 6,
   "id": "330c353b",
   "metadata": {},
   "outputs": [
    {
     "data": {
      "text/html": [
       "<style>#sk-6872aa5e-14ef-4468-9b01-5ccf4b47d8d1 {color: black;background-color: white;}#sk-6872aa5e-14ef-4468-9b01-5ccf4b47d8d1 pre{padding: 0;}#sk-6872aa5e-14ef-4468-9b01-5ccf4b47d8d1 div.sk-toggleable {background-color: white;}#sk-6872aa5e-14ef-4468-9b01-5ccf4b47d8d1 label.sk-toggleable__label {cursor: pointer;display: block;width: 100%;margin-bottom: 0;padding: 0.3em;box-sizing: border-box;text-align: center;}#sk-6872aa5e-14ef-4468-9b01-5ccf4b47d8d1 label.sk-toggleable__label-arrow:before {content: \"▸\";float: left;margin-right: 0.25em;color: #696969;}#sk-6872aa5e-14ef-4468-9b01-5ccf4b47d8d1 label.sk-toggleable__label-arrow:hover:before {color: black;}#sk-6872aa5e-14ef-4468-9b01-5ccf4b47d8d1 div.sk-estimator:hover label.sk-toggleable__label-arrow:before {color: black;}#sk-6872aa5e-14ef-4468-9b01-5ccf4b47d8d1 div.sk-toggleable__content {max-height: 0;max-width: 0;overflow: hidden;text-align: left;background-color: #f0f8ff;}#sk-6872aa5e-14ef-4468-9b01-5ccf4b47d8d1 div.sk-toggleable__content pre {margin: 0.2em;color: black;border-radius: 0.25em;background-color: #f0f8ff;}#sk-6872aa5e-14ef-4468-9b01-5ccf4b47d8d1 input.sk-toggleable__control:checked~div.sk-toggleable__content {max-height: 200px;max-width: 100%;overflow: auto;}#sk-6872aa5e-14ef-4468-9b01-5ccf4b47d8d1 input.sk-toggleable__control:checked~label.sk-toggleable__label-arrow:before {content: \"▾\";}#sk-6872aa5e-14ef-4468-9b01-5ccf4b47d8d1 div.sk-estimator input.sk-toggleable__control:checked~label.sk-toggleable__label {background-color: #d4ebff;}#sk-6872aa5e-14ef-4468-9b01-5ccf4b47d8d1 div.sk-label input.sk-toggleable__control:checked~label.sk-toggleable__label {background-color: #d4ebff;}#sk-6872aa5e-14ef-4468-9b01-5ccf4b47d8d1 input.sk-hidden--visually {border: 0;clip: rect(1px 1px 1px 1px);clip: rect(1px, 1px, 1px, 1px);height: 1px;margin: -1px;overflow: hidden;padding: 0;position: absolute;width: 1px;}#sk-6872aa5e-14ef-4468-9b01-5ccf4b47d8d1 div.sk-estimator {font-family: monospace;background-color: #f0f8ff;border: 1px dotted black;border-radius: 0.25em;box-sizing: border-box;margin-bottom: 0.5em;}#sk-6872aa5e-14ef-4468-9b01-5ccf4b47d8d1 div.sk-estimator:hover {background-color: #d4ebff;}#sk-6872aa5e-14ef-4468-9b01-5ccf4b47d8d1 div.sk-parallel-item::after {content: \"\";width: 100%;border-bottom: 1px solid gray;flex-grow: 1;}#sk-6872aa5e-14ef-4468-9b01-5ccf4b47d8d1 div.sk-label:hover label.sk-toggleable__label {background-color: #d4ebff;}#sk-6872aa5e-14ef-4468-9b01-5ccf4b47d8d1 div.sk-serial::before {content: \"\";position: absolute;border-left: 1px solid gray;box-sizing: border-box;top: 2em;bottom: 0;left: 50%;}#sk-6872aa5e-14ef-4468-9b01-5ccf4b47d8d1 div.sk-serial {display: flex;flex-direction: column;align-items: center;background-color: white;padding-right: 0.2em;padding-left: 0.2em;}#sk-6872aa5e-14ef-4468-9b01-5ccf4b47d8d1 div.sk-item {z-index: 1;}#sk-6872aa5e-14ef-4468-9b01-5ccf4b47d8d1 div.sk-parallel {display: flex;align-items: stretch;justify-content: center;background-color: white;}#sk-6872aa5e-14ef-4468-9b01-5ccf4b47d8d1 div.sk-parallel::before {content: \"\";position: absolute;border-left: 1px solid gray;box-sizing: border-box;top: 2em;bottom: 0;left: 50%;}#sk-6872aa5e-14ef-4468-9b01-5ccf4b47d8d1 div.sk-parallel-item {display: flex;flex-direction: column;position: relative;background-color: white;}#sk-6872aa5e-14ef-4468-9b01-5ccf4b47d8d1 div.sk-parallel-item:first-child::after {align-self: flex-end;width: 50%;}#sk-6872aa5e-14ef-4468-9b01-5ccf4b47d8d1 div.sk-parallel-item:last-child::after {align-self: flex-start;width: 50%;}#sk-6872aa5e-14ef-4468-9b01-5ccf4b47d8d1 div.sk-parallel-item:only-child::after {width: 0;}#sk-6872aa5e-14ef-4468-9b01-5ccf4b47d8d1 div.sk-dashed-wrapped {border: 1px dashed gray;margin: 0 0.4em 0.5em 0.4em;box-sizing: border-box;padding-bottom: 0.4em;background-color: white;position: relative;}#sk-6872aa5e-14ef-4468-9b01-5ccf4b47d8d1 div.sk-label label {font-family: monospace;font-weight: bold;background-color: white;display: inline-block;line-height: 1.2em;}#sk-6872aa5e-14ef-4468-9b01-5ccf4b47d8d1 div.sk-label-container {position: relative;z-index: 2;text-align: center;}#sk-6872aa5e-14ef-4468-9b01-5ccf4b47d8d1 div.sk-container {/* jupyter's `normalize.less` sets `[hidden] { display: none; }` but bootstrap.min.css set `[hidden] { display: none !important; }` so we also need the `!important` here to be able to override the default hidden behavior on the sphinx rendered scikit-learn.org. See: https://github.com/scikit-learn/scikit-learn/issues/21755 */display: inline-block !important;position: relative;}#sk-6872aa5e-14ef-4468-9b01-5ccf4b47d8d1 div.sk-text-repr-fallback {display: none;}</style><div id=\"sk-6872aa5e-14ef-4468-9b01-5ccf4b47d8d1\" class=\"sk-top-container\"><div class=\"sk-text-repr-fallback\"><pre>Pipeline(steps=[(&#x27;columntransformer&#x27;,\n",
       "                 ColumnTransformer(transformers=[(&#x27;categorical&#x27;,\n",
       "                                                  Pipeline(steps=[(&#x27;imputation_mean&#x27;,\n",
       "                                                                   SimpleImputer()),\n",
       "                                                                  (&#x27;Onehot&#x27;,\n",
       "                                                                   OneHotEncoder())]),\n",
       "                                                  [&#x27;gender&#x27;, &#x27;City&#x27;]),\n",
       "                                                 (&#x27;numerical&#x27;,\n",
       "                                                  Pipeline(steps=[(&#x27;imputation_mean&#x27;,\n",
       "                                                                   SimpleImputer()),\n",
       "                                                                  (&#x27;scaler&#x27;,\n",
       "                                                                   StandardScaler())]),\n",
       "                                                  [&#x27;age&#x27;, &#x27;height&#x27;])])),\n",
       "                (&#x27;logisticregression&#x27;, LogisticRegression())])</pre><b>Please rerun this cell to show the HTML repr or trust the notebook.</b></div><div class=\"sk-container\" hidden><div class=\"sk-item sk-dashed-wrapped\"><div class=\"sk-label-container\"><div class=\"sk-label sk-toggleable\"><input class=\"sk-toggleable__control sk-hidden--visually\" id=\"e08075fb-8569-4f1e-83c5-81e4ca2af861\" type=\"checkbox\" ><label for=\"e08075fb-8569-4f1e-83c5-81e4ca2af861\" class=\"sk-toggleable__label sk-toggleable__label-arrow\">Pipeline</label><div class=\"sk-toggleable__content\"><pre>Pipeline(steps=[(&#x27;columntransformer&#x27;,\n",
       "                 ColumnTransformer(transformers=[(&#x27;categorical&#x27;,\n",
       "                                                  Pipeline(steps=[(&#x27;imputation_mean&#x27;,\n",
       "                                                                   SimpleImputer()),\n",
       "                                                                  (&#x27;Onehot&#x27;,\n",
       "                                                                   OneHotEncoder())]),\n",
       "                                                  [&#x27;gender&#x27;, &#x27;City&#x27;]),\n",
       "                                                 (&#x27;numerical&#x27;,\n",
       "                                                  Pipeline(steps=[(&#x27;imputation_mean&#x27;,\n",
       "                                                                   SimpleImputer()),\n",
       "                                                                  (&#x27;scaler&#x27;,\n",
       "                                                                   StandardScaler())]),\n",
       "                                                  [&#x27;age&#x27;, &#x27;height&#x27;])])),\n",
       "                (&#x27;logisticregression&#x27;, LogisticRegression())])</pre></div></div></div><div class=\"sk-serial\"><div class=\"sk-item sk-dashed-wrapped\"><div class=\"sk-label-container\"><div class=\"sk-label sk-toggleable\"><input class=\"sk-toggleable__control sk-hidden--visually\" id=\"423f806d-2a12-4edf-8409-9d3ad13ba696\" type=\"checkbox\" ><label for=\"423f806d-2a12-4edf-8409-9d3ad13ba696\" class=\"sk-toggleable__label sk-toggleable__label-arrow\">columntransformer: ColumnTransformer</label><div class=\"sk-toggleable__content\"><pre>ColumnTransformer(transformers=[(&#x27;categorical&#x27;,\n",
       "                                 Pipeline(steps=[(&#x27;imputation_mean&#x27;,\n",
       "                                                  SimpleImputer()),\n",
       "                                                 (&#x27;Onehot&#x27;, OneHotEncoder())]),\n",
       "                                 [&#x27;gender&#x27;, &#x27;City&#x27;]),\n",
       "                                (&#x27;numerical&#x27;,\n",
       "                                 Pipeline(steps=[(&#x27;imputation_mean&#x27;,\n",
       "                                                  SimpleImputer()),\n",
       "                                                 (&#x27;scaler&#x27;, StandardScaler())]),\n",
       "                                 [&#x27;age&#x27;, &#x27;height&#x27;])])</pre></div></div></div><div class=\"sk-parallel\"><div class=\"sk-parallel-item\"><div class=\"sk-item\"><div class=\"sk-label-container\"><div class=\"sk-label sk-toggleable\"><input class=\"sk-toggleable__control sk-hidden--visually\" id=\"343fe2dc-c35c-4c3b-a25a-7c581090d67c\" type=\"checkbox\" ><label for=\"343fe2dc-c35c-4c3b-a25a-7c581090d67c\" class=\"sk-toggleable__label sk-toggleable__label-arrow\">categorical</label><div class=\"sk-toggleable__content\"><pre>[&#x27;gender&#x27;, &#x27;City&#x27;]</pre></div></div></div><div class=\"sk-serial\"><div class=\"sk-item\"><div class=\"sk-serial\"><div class=\"sk-item\"><div class=\"sk-estimator sk-toggleable\"><input class=\"sk-toggleable__control sk-hidden--visually\" id=\"9fc75620-d481-4077-b202-8adba069533a\" type=\"checkbox\" ><label for=\"9fc75620-d481-4077-b202-8adba069533a\" class=\"sk-toggleable__label sk-toggleable__label-arrow\">SimpleImputer</label><div class=\"sk-toggleable__content\"><pre>SimpleImputer()</pre></div></div></div><div class=\"sk-item\"><div class=\"sk-estimator sk-toggleable\"><input class=\"sk-toggleable__control sk-hidden--visually\" id=\"89217a16-bc9f-4517-8a1f-9f9f71d8ca9c\" type=\"checkbox\" ><label for=\"89217a16-bc9f-4517-8a1f-9f9f71d8ca9c\" class=\"sk-toggleable__label sk-toggleable__label-arrow\">OneHotEncoder</label><div class=\"sk-toggleable__content\"><pre>OneHotEncoder()</pre></div></div></div></div></div></div></div></div><div class=\"sk-parallel-item\"><div class=\"sk-item\"><div class=\"sk-label-container\"><div class=\"sk-label sk-toggleable\"><input class=\"sk-toggleable__control sk-hidden--visually\" id=\"bc453fe2-ba62-4e0f-83a1-986c68703122\" type=\"checkbox\" ><label for=\"bc453fe2-ba62-4e0f-83a1-986c68703122\" class=\"sk-toggleable__label sk-toggleable__label-arrow\">numerical</label><div class=\"sk-toggleable__content\"><pre>[&#x27;age&#x27;, &#x27;height&#x27;]</pre></div></div></div><div class=\"sk-serial\"><div class=\"sk-item\"><div class=\"sk-serial\"><div class=\"sk-item\"><div class=\"sk-estimator sk-toggleable\"><input class=\"sk-toggleable__control sk-hidden--visually\" id=\"c28d2ba9-d6db-492b-a112-70bc4dd63c9c\" type=\"checkbox\" ><label for=\"c28d2ba9-d6db-492b-a112-70bc4dd63c9c\" class=\"sk-toggleable__label sk-toggleable__label-arrow\">SimpleImputer</label><div class=\"sk-toggleable__content\"><pre>SimpleImputer()</pre></div></div></div><div class=\"sk-item\"><div class=\"sk-estimator sk-toggleable\"><input class=\"sk-toggleable__control sk-hidden--visually\" id=\"e44cfd78-376f-4103-85b7-7c7311953efb\" type=\"checkbox\" ><label for=\"e44cfd78-376f-4103-85b7-7c7311953efb\" class=\"sk-toggleable__label sk-toggleable__label-arrow\">StandardScaler</label><div class=\"sk-toggleable__content\"><pre>StandardScaler()</pre></div></div></div></div></div></div></div></div></div></div><div class=\"sk-item\"><div class=\"sk-estimator sk-toggleable\"><input class=\"sk-toggleable__control sk-hidden--visually\" id=\"d0855561-fe6c-4595-bb69-396145bfa0af\" type=\"checkbox\" ><label for=\"d0855561-fe6c-4595-bb69-396145bfa0af\" class=\"sk-toggleable__label sk-toggleable__label-arrow\">LogisticRegression</label><div class=\"sk-toggleable__content\"><pre>LogisticRegression()</pre></div></div></div></div></div></div></div>"
      ],
      "text/plain": [
       "Pipeline(steps=[('columntransformer',\n",
       "                 ColumnTransformer(transformers=[('categorical',\n",
       "                                                  Pipeline(steps=[('imputation_mean',\n",
       "                                                                   SimpleImputer()),\n",
       "                                                                  ('Onehot',\n",
       "                                                                   OneHotEncoder())]),\n",
       "                                                  ['gender', 'City']),\n",
       "                                                 ('numerical',\n",
       "                                                  Pipeline(steps=[('imputation_mean',\n",
       "                                                                   SimpleImputer()),\n",
       "                                                                  ('scaler',\n",
       "                                                                   StandardScaler())]),\n",
       "                                                  ['age', 'height'])])),\n",
       "                ('logisticregression', LogisticRegression())])"
      ]
     },
     "execution_count": 6,
     "metadata": {},
     "output_type": "execute_result"
    }
   ],
   "source": [
    "from sklearn.pipeline import make_pipeline\n",
    "from sklearn.linear_model import LogisticRegression\n",
    "\n",
    "pipe = make_pipeline(preprocess,LogisticRegression())\n",
    "pipe"
   ]
  },
  {
   "cell_type": "code",
   "execution_count": 66,
   "id": "1d434231",
   "metadata": {},
   "outputs": [
    {
     "data": {
      "text/html": [
       "<style>#sk-5e361465-e94c-46d8-9c83-8ac7cd8faa4d {color: black;background-color: white;}#sk-5e361465-e94c-46d8-9c83-8ac7cd8faa4d pre{padding: 0;}#sk-5e361465-e94c-46d8-9c83-8ac7cd8faa4d div.sk-toggleable {background-color: white;}#sk-5e361465-e94c-46d8-9c83-8ac7cd8faa4d label.sk-toggleable__label {cursor: pointer;display: block;width: 100%;margin-bottom: 0;padding: 0.3em;box-sizing: border-box;text-align: center;}#sk-5e361465-e94c-46d8-9c83-8ac7cd8faa4d label.sk-toggleable__label-arrow:before {content: \"▸\";float: left;margin-right: 0.25em;color: #696969;}#sk-5e361465-e94c-46d8-9c83-8ac7cd8faa4d label.sk-toggleable__label-arrow:hover:before {color: black;}#sk-5e361465-e94c-46d8-9c83-8ac7cd8faa4d div.sk-estimator:hover label.sk-toggleable__label-arrow:before {color: black;}#sk-5e361465-e94c-46d8-9c83-8ac7cd8faa4d div.sk-toggleable__content {max-height: 0;max-width: 0;overflow: hidden;text-align: left;background-color: #f0f8ff;}#sk-5e361465-e94c-46d8-9c83-8ac7cd8faa4d div.sk-toggleable__content pre {margin: 0.2em;color: black;border-radius: 0.25em;background-color: #f0f8ff;}#sk-5e361465-e94c-46d8-9c83-8ac7cd8faa4d input.sk-toggleable__control:checked~div.sk-toggleable__content {max-height: 200px;max-width: 100%;overflow: auto;}#sk-5e361465-e94c-46d8-9c83-8ac7cd8faa4d input.sk-toggleable__control:checked~label.sk-toggleable__label-arrow:before {content: \"▾\";}#sk-5e361465-e94c-46d8-9c83-8ac7cd8faa4d div.sk-estimator input.sk-toggleable__control:checked~label.sk-toggleable__label {background-color: #d4ebff;}#sk-5e361465-e94c-46d8-9c83-8ac7cd8faa4d div.sk-label input.sk-toggleable__control:checked~label.sk-toggleable__label {background-color: #d4ebff;}#sk-5e361465-e94c-46d8-9c83-8ac7cd8faa4d input.sk-hidden--visually {border: 0;clip: rect(1px 1px 1px 1px);clip: rect(1px, 1px, 1px, 1px);height: 1px;margin: -1px;overflow: hidden;padding: 0;position: absolute;width: 1px;}#sk-5e361465-e94c-46d8-9c83-8ac7cd8faa4d div.sk-estimator {font-family: monospace;background-color: #f0f8ff;border: 1px dotted black;border-radius: 0.25em;box-sizing: border-box;margin-bottom: 0.5em;}#sk-5e361465-e94c-46d8-9c83-8ac7cd8faa4d div.sk-estimator:hover {background-color: #d4ebff;}#sk-5e361465-e94c-46d8-9c83-8ac7cd8faa4d div.sk-parallel-item::after {content: \"\";width: 100%;border-bottom: 1px solid gray;flex-grow: 1;}#sk-5e361465-e94c-46d8-9c83-8ac7cd8faa4d div.sk-label:hover label.sk-toggleable__label {background-color: #d4ebff;}#sk-5e361465-e94c-46d8-9c83-8ac7cd8faa4d div.sk-serial::before {content: \"\";position: absolute;border-left: 1px solid gray;box-sizing: border-box;top: 2em;bottom: 0;left: 50%;}#sk-5e361465-e94c-46d8-9c83-8ac7cd8faa4d div.sk-serial {display: flex;flex-direction: column;align-items: center;background-color: white;padding-right: 0.2em;padding-left: 0.2em;}#sk-5e361465-e94c-46d8-9c83-8ac7cd8faa4d div.sk-item {z-index: 1;}#sk-5e361465-e94c-46d8-9c83-8ac7cd8faa4d div.sk-parallel {display: flex;align-items: stretch;justify-content: center;background-color: white;}#sk-5e361465-e94c-46d8-9c83-8ac7cd8faa4d div.sk-parallel::before {content: \"\";position: absolute;border-left: 1px solid gray;box-sizing: border-box;top: 2em;bottom: 0;left: 50%;}#sk-5e361465-e94c-46d8-9c83-8ac7cd8faa4d div.sk-parallel-item {display: flex;flex-direction: column;position: relative;background-color: white;}#sk-5e361465-e94c-46d8-9c83-8ac7cd8faa4d div.sk-parallel-item:first-child::after {align-self: flex-end;width: 50%;}#sk-5e361465-e94c-46d8-9c83-8ac7cd8faa4d div.sk-parallel-item:last-child::after {align-self: flex-start;width: 50%;}#sk-5e361465-e94c-46d8-9c83-8ac7cd8faa4d div.sk-parallel-item:only-child::after {width: 0;}#sk-5e361465-e94c-46d8-9c83-8ac7cd8faa4d div.sk-dashed-wrapped {border: 1px dashed gray;margin: 0 0.4em 0.5em 0.4em;box-sizing: border-box;padding-bottom: 0.4em;background-color: white;position: relative;}#sk-5e361465-e94c-46d8-9c83-8ac7cd8faa4d div.sk-label label {font-family: monospace;font-weight: bold;background-color: white;display: inline-block;line-height: 1.2em;}#sk-5e361465-e94c-46d8-9c83-8ac7cd8faa4d div.sk-label-container {position: relative;z-index: 2;text-align: center;}#sk-5e361465-e94c-46d8-9c83-8ac7cd8faa4d div.sk-container {/* jupyter's `normalize.less` sets `[hidden] { display: none; }` but bootstrap.min.css set `[hidden] { display: none !important; }` so we also need the `!important` here to be able to override the default hidden behavior on the sphinx rendered scikit-learn.org. See: https://github.com/scikit-learn/scikit-learn/issues/21755 */display: inline-block !important;position: relative;}#sk-5e361465-e94c-46d8-9c83-8ac7cd8faa4d div.sk-text-repr-fallback {display: none;}</style><div id=\"sk-5e361465-e94c-46d8-9c83-8ac7cd8faa4d\" class=\"sk-top-container\"><div class=\"sk-text-repr-fallback\"><pre>SimpleImputer()</pre><b>Please rerun this cell to show the HTML repr or trust the notebook.</b></div><div class=\"sk-container\" hidden><div class=\"sk-item\"><div class=\"sk-estimator sk-toggleable\"><input class=\"sk-toggleable__control sk-hidden--visually\" id=\"7f2269d6-d19e-4369-a009-550b34f29fc1\" type=\"checkbox\" checked><label for=\"7f2269d6-d19e-4369-a009-550b34f29fc1\" class=\"sk-toggleable__label sk-toggleable__label-arrow\">SimpleImputer</label><div class=\"sk-toggleable__content\"><pre>SimpleImputer()</pre></div></div></div></div></div>"
      ],
      "text/plain": [
       "SimpleImputer()"
      ]
     },
     "execution_count": 66,
     "metadata": {},
     "output_type": "execute_result"
    }
   ],
   "source": [
    "pipe.named_steps['columntransformer'].transformers[1][1][0]"
   ]
  },
  {
   "cell_type": "code",
   "execution_count": null,
   "id": "f3ad81bf",
   "metadata": {},
   "outputs": [],
   "source": []
  }
 ],
 "metadata": {
  "kernelspec": {
   "display_name": "Python 3 (ipykernel)",
   "language": "python",
   "name": "python3"
  },
  "language_info": {
   "codemirror_mode": {
    "name": "ipython",
    "version": 3
   },
   "file_extension": ".py",
   "mimetype": "text/x-python",
   "name": "python",
   "nbconvert_exporter": "python",
   "pygments_lexer": "ipython3",
   "version": "3.8.8"
  }
 },
 "nbformat": 4,
 "nbformat_minor": 5
}
